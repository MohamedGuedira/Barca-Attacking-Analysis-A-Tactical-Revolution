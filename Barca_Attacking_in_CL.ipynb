{
 "cells": [
  {
   "cell_type": "code",
   "execution_count": 2,
   "metadata": {
    "colab": {
     "base_uri": "https://localhost:8080/"
    },
    "id": "93Ht9k-bPkCz",
    "outputId": "5a166b39-a56b-4d02-b7ce-25aec9826f8e"
   },
   "outputs": [
    {
     "name": "stdout",
     "output_type": "stream",
     "text": [
      "Collecting mplsoccer\n",
      "  Downloading mplsoccer-1.4.0-py3-none-any.whl.metadata (4.8 kB)\n",
      "Requirement already satisfied: matplotlib>=3.6 in /usr/local/lib/python3.10/dist-packages (from mplsoccer) (3.8.0)\n",
      "Requirement already satisfied: numpy in /usr/local/lib/python3.10/dist-packages (from mplsoccer) (1.26.4)\n",
      "Requirement already satisfied: pandas in /usr/local/lib/python3.10/dist-packages (from mplsoccer) (2.2.2)\n",
      "Requirement already satisfied: pillow in /usr/local/lib/python3.10/dist-packages (from mplsoccer) (11.0.0)\n",
      "Requirement already satisfied: requests in /usr/local/lib/python3.10/dist-packages (from mplsoccer) (2.32.3)\n",
      "Requirement already satisfied: scipy in /usr/local/lib/python3.10/dist-packages (from mplsoccer) (1.13.1)\n",
      "Requirement already satisfied: seaborn in /usr/local/lib/python3.10/dist-packages (from mplsoccer) (0.13.2)\n",
      "Requirement already satisfied: contourpy>=1.0.1 in /usr/local/lib/python3.10/dist-packages (from matplotlib>=3.6->mplsoccer) (1.3.1)\n",
      "Requirement already satisfied: cycler>=0.10 in /usr/local/lib/python3.10/dist-packages (from matplotlib>=3.6->mplsoccer) (0.12.1)\n",
      "Requirement already satisfied: fonttools>=4.22.0 in /usr/local/lib/python3.10/dist-packages (from matplotlib>=3.6->mplsoccer) (4.55.0)\n",
      "Requirement already satisfied: kiwisolver>=1.0.1 in /usr/local/lib/python3.10/dist-packages (from matplotlib>=3.6->mplsoccer) (1.4.7)\n",
      "Requirement already satisfied: packaging>=20.0 in /usr/local/lib/python3.10/dist-packages (from matplotlib>=3.6->mplsoccer) (24.2)\n",
      "Requirement already satisfied: pyparsing>=2.3.1 in /usr/local/lib/python3.10/dist-packages (from matplotlib>=3.6->mplsoccer) (3.2.0)\n",
      "Requirement already satisfied: python-dateutil>=2.7 in /usr/local/lib/python3.10/dist-packages (from matplotlib>=3.6->mplsoccer) (2.8.2)\n",
      "Requirement already satisfied: pytz>=2020.1 in /usr/local/lib/python3.10/dist-packages (from pandas->mplsoccer) (2024.2)\n",
      "Requirement already satisfied: tzdata>=2022.7 in /usr/local/lib/python3.10/dist-packages (from pandas->mplsoccer) (2024.2)\n",
      "Requirement already satisfied: charset-normalizer<4,>=2 in /usr/local/lib/python3.10/dist-packages (from requests->mplsoccer) (3.4.0)\n",
      "Requirement already satisfied: idna<4,>=2.5 in /usr/local/lib/python3.10/dist-packages (from requests->mplsoccer) (3.10)\n",
      "Requirement already satisfied: urllib3<3,>=1.21.1 in /usr/local/lib/python3.10/dist-packages (from requests->mplsoccer) (2.2.3)\n",
      "Requirement already satisfied: certifi>=2017.4.17 in /usr/local/lib/python3.10/dist-packages (from requests->mplsoccer) (2024.8.30)\n",
      "Requirement already satisfied: six>=1.5 in /usr/local/lib/python3.10/dist-packages (from python-dateutil>=2.7->matplotlib>=3.6->mplsoccer) (1.16.0)\n",
      "Downloading mplsoccer-1.4.0-py3-none-any.whl (85 kB)\n",
      "\u001b[2K   \u001b[90m━━━━━━━━━━━━━━━━━━━━━━━━━━━━━━━━━━━━━━━━\u001b[0m \u001b[32m85.8/85.8 kB\u001b[0m \u001b[31m2.4 MB/s\u001b[0m eta \u001b[36m0:00:00\u001b[0m\n",
      "\u001b[?25hInstalling collected packages: mplsoccer\n",
      "Successfully installed mplsoccer-1.4.0\n"
     ]
    }
   ],
   "source": [
    "pip install mplsoccer"
   ]
  },
  {
   "cell_type": "code",
   "execution_count": 5,
   "metadata": {
    "colab": {
     "base_uri": "https://localhost:8080/",
     "height": 504
    },
    "id": "RdNlgAVnPhmU",
    "outputId": "7f791314-0632-406d-a3a8-28e187aa0dfc"
   },
   "outputs": [
    {
     "name": "stdout",
     "output_type": "stream",
     "text": [
      "Enter the name of the player: Raphinha\n"
     ]
    },
    {
     "data": {
      "image/png": "[encoded data removed]",
      "text/plain": [
       "<Figure size 640x480 with 1 Axes>"
      ]
     },
     "metadata": {},
     "output_type": "display_data"
    }
   ],
   "source": [
    "import requests\n",
    "import json\n",
    "import pandas as pd\n",
    "from bs4 import BeautifulSoup\n",
    "from mplsoccer import VerticalPitch\n",
    "from PIL import Image\n",
    "from io import BytesIO\n",
    "from matplotlib.offsetbox import OffsetImage, AnnotationBbox\n",
    "\n",
    "\n",
    "def fetch_match_data(url):\n",
    "    \"\"\"\n",
    "    Fetches match data from the given URL and returns the JSON content.\n",
    "\n",
    "    Args:\n",
    "        url (str): The URL of the Fotmob match page.\n",
    "\n",
    "    Returns:\n",
    "        dict: Parsed JSON data from the match.\n",
    "    \"\"\"\n",
    "    try:\n",
    "        r = requests.get(url)\n",
    "        r.raise_for_status()  # Raise HTTPError for bad responses\n",
    "        soup = BeautifulSoup(r.text, 'html.parser')\n",
    "        json_data = json.loads(soup.find('script', attrs={'id': '__NEXT_DATA__'}).contents[0])\n",
    "        return json_data\n",
    "    except requests.exceptions.RequestException as e:\n",
    "        print(f\"Error fetching data from {url}: {e}\")\n",
    "        return None\n",
    "    except (json.JSONDecodeError, AttributeError) as e:\n",
    "        print(f\"Error parsing JSON from {url}: {e}\")\n",
    "        return None\n",
    "\n",
    "\n",
    "def parse_shotmap(json_data):\n",
    "    \"\"\"\n",
    "    Extracts shotmap data from the JSON content.\n",
    "\n",
    "    Args:\n",
    "        json_data (dict): JSON content of the match.\n",
    "\n",
    "    Returns:\n",
    "        pd.DataFrame: A DataFrame containing shotmap data.\n",
    "    \"\"\"\n",
    "    try:\n",
    "        shots = json_data['props']['pageProps']['content']['shotmap']['shots']\n",
    "        return pd.DataFrame(shots)\n",
    "    except KeyError:\n",
    "        print(\"Error: Shotmap data not found in JSON.\")\n",
    "        return pd.DataFrame()\n",
    "\n",
    "\n",
    "def plot_shotmap(shotmap_df, selected_player):\n",
    "    \"\"\"\n",
    "    Plots a shotmap for the selected player using mplsoccer.\n",
    "\n",
    "    Args:\n",
    "        shotmap_df (pd.DataFrame): DataFrame containing shotmap data.\n",
    "        selected_player (str): Name of the player to visualize.\n",
    "    \"\"\"\n",
    "    selected_player_shots = shotmap_df[shotmap_df['playerName'] == selected_player]\n",
    "\n",
    "    if selected_player_shots.empty:\n",
    "        print(f\"No shots found for player {selected_player}.\")\n",
    "        return\n",
    "\n",
    "    pitch = VerticalPitch(pitch_type='uefa', half=True)\n",
    "    fig, ax = pitch.draw()\n",
    "    ax.set_facecolor('black')\n",
    "\n",
    "    for i, shot in selected_player_shots.iterrows():\n",
    "        color, marker = {\n",
    "            \"Goal\": (\"green\", \"o\"),\n",
    "            \"AttemptSaved\": (\"blue\", \"s\"),\n",
    "            \"Post\": (\"yellow\", \"h\"),\n",
    "            \"Miss\": (\"red\", \"x\")\n",
    "        }.get(shot['eventType'], (\"white\", \"?\"))\n",
    "\n",
    "        pitch.scatter(shot['x'], shot['y'], marker=marker, s=200, edgecolor='white', facecolor=color, ax=ax)\n",
    "\n",
    "    player_id = selected_player_shots['playerId'].iloc[0]\n",
    "    image_url = f\"https://images.fotmob.com/image_resources/playerimages/{player_id}.png\"\n",
    "    try:\n",
    "        image_response = requests.get(image_url)\n",
    "        image_response.raise_for_status()\n",
    "        img = Image.open(BytesIO(image_response.content)).convert('RGBA')\n",
    "        imagebox = OffsetImage(img, zoom=0.2)\n",
    "        ab = AnnotationBbox(imagebox, (4, 62), frameon=False)\n",
    "        ax.add_artist(ab)\n",
    "    except requests.exceptions.RequestException:\n",
    "        print(\"Error fetching player image.\")\n",
    "\n",
    "    pitch.annotate(f\"{selected_player}\\nShotmap\", (59, 8), ax=ax, fontsize=8, color='white', ha='right', weight='bold')\n",
    "\n",
    "    legend_items = [(\"Goal\", \"green\", \"o\"), (\"Attempt Saved\", \"blue\", \"s\"),\n",
    "                    (\"Post\", \"yellow\", \"h\"), (\"Miss\", \"red\", \"x\")]\n",
    "    for idx, (label, color, marker) in enumerate(legend_items):\n",
    "        pitch.scatter(54 + (idx * 3), 65, marker=marker, s=100, edgecolor='white', facecolor=color, ax=ax)\n",
    "        pitch.annotate(label, (53.8 + (idx * 3), 63.5), ax=ax, fontsize=6, color='white', ha='left', va='center')\n",
    "\n",
    "    fig.show()\n",
    "\n",
    "\n",
    "def main():\n",
    "    \"\"\"\n",
    "    Main function to fetch, process, and visualize shotmap data.\n",
    "    \"\"\"\n",
    "    urls = [\n",
    "        'https://www.fotmob.com/fr/matches/barcelona-vs-monaco/2thjyt#4621541:tab=stats',\n",
    "        'https://www.fotmob.com/fr/matches/barcelona-vs-young-boys/2xildd#4621538:tab=stats',\n",
    "        'https://www.fotmob.com/fr/matches/barcelona-vs-bayern-munchen/2tf6hw#4621509:tab=stats',\n",
    "        'https://www.fotmob.com/fr/matches/barcelona-vs-red-star-belgrade/2hbkp8#4621539:tab=stats',\n",
    "        'https://www.fotmob.com/matches/brest-vs-barcelona/2fm8n4#4621540:tab=stats',\n",
    "        'https://www.fotmob.com/fr/matches/barcelona-vs-dortmund/2t1qox#4621528:tab=stats'\n",
    "    ]\n",
    "\n",
    "    all_shotmaps = []\n",
    "    for url in urls:\n",
    "        data = fetch_match_data(url)\n",
    "        if data:\n",
    "            shotmap_df = parse_shotmap(data)\n",
    "            all_shotmaps.append(shotmap_df)\n",
    "\n",
    "    combined_shotmap_df = pd.concat(all_shotmaps, ignore_index=True)\n",
    "\n",
    "    selected_player = input(\"Enter the name of the player: \")\n",
    "    plot_shotmap(combined_shotmap_df, selected_player)\n",
    "\n",
    "\n",
    "if __name__ == \"__main__\":\n",
    "    main()\n"
   ]
  },
  {
   "cell_type": "code",
   "execution_count": null,
   "metadata": {
    "id": "vtI4X2o9PqAv"
   },
   "outputs": [],
   "source": []
  }
 ],
 "metadata": {
  "colab": {
   "provenance": []
  },
  "kernelspec": {
   "display_name": "Python 3",
   "name": "python3"
  },
  "language_info": {
   "name": "python"
  }
 },
 "nbformat": 4,
 "nbformat_minor": 0
}
